{
 "cells": [
  {
   "cell_type": "markdown",
   "metadata": {},
   "source": [
    "# 人工智能实践-第三课-Mnist数据集使用\n",
    "\n",
    "Created by Henry Huang\n",
    "\n",
    "对应课程链接：https://www.icourse163.org/learn/PKU-1002536002?tid=1462067447#/learn/content?type=detail&id=1238898243&sm=1\n",
    "\n",
    "---"
   ]
  },
  {
   "cell_type": "markdown",
   "metadata": {},
   "source": [
    "导入数据集\n"
   ]
  },
  {
   "cell_type": "code",
   "execution_count": 2,
   "metadata": {
    "collapsed": true
   },
   "outputs": [],
   "source": [
    "import tensorflow as tf\n",
    "mnist=tf.keras.datasets.mnist"
   ]
  },
  {
   "cell_type": "code",
   "execution_count": 7,
   "metadata": {
    "collapsed": true
   },
   "outputs": [],
   "source": [
    "import matplotlib.pyplot as plt"
   ]
  },
  {
   "cell_type": "markdown",
   "metadata": {},
   "source": [
    "载入数据\n",
    "\n",
    "- <font color=red>这里需要注意的就是：如果按照老师课上的代码直接写，是会需要梯子慢慢下载这个数据集的。</font>\n",
    "- <font color=red>因此我们可以先到网上把数据集下载到本地，然后使用</font>mnist.load_data('本地路径\\mnist.npz') <font color=red>加载数据集。</font>\n",
    "- <font color=red>记得一定要加mnist.npz，否则程序会认为是load数据集到指定的路径，依然会下载下来，更有甚者会报错permission denied 就是他需要新建一个文件但是没有权限。</font>"
   ]
  },
  {
   "cell_type": "code",
   "execution_count": 6,
   "metadata": {},
   "outputs": [],
   "source": [
    "(x_train,y_train),(x_test,y_test)=mnist.load_data(r'E:\\AD_CSorJiangLab\\MOOC-CS课程ppt+笔记\\北大人工智能实践：tensorflow2\\Code\\mnist.npz')#加载本地数据集"
   ]
  },
  {
   "cell_type": "markdown",
   "metadata": {},
   "source": [
    "看看数据集里面的图"
   ]
  },
  {
   "cell_type": "code",
   "execution_count": 8,
   "metadata": {},
   "outputs": [
    {
     "data": {
      "image/png": "[encoded data removed]",
      "text/plain": [
       "<Figure size 432x288 with 1 Axes>"
      ]
     },
     "metadata": {
      "needs_background": "light"
     },
     "output_type": "display_data"
    }
   ],
   "source": [
    "plt.imshow(x_train[0],cmap='gray')\n",
    "plt.show()"
   ]
  },
  {
   "cell_type": "code",
   "execution_count": 11,
   "metadata": {
    "scrolled": true
   },
   "outputs": [
    {
     "name": "stdout",
     "output_type": "stream",
     "text": [
      "x_train[0]:\n",
      " [[  0   0   0   0   0   0   0   0   0   0   0   0   0   0   0   0   0   0\n",
      "    0   0   0   0   0   0   0   0   0   0]\n",
      " [  0   0   0   0   0   0   0   0   0   0   0   0   0   0   0   0   0   0\n",
      "    0   0   0   0   0   0   0   0   0   0]\n",
      " [  0   0   0   0   0   0   0   0   0   0   0   0   0   0   0   0   0   0\n",
      "    0   0   0   0   0   0   0   0   0   0]\n",
      " [  0   0   0   0   0   0   0   0   0   0   0   0   0   0   0   0   0   0\n",
      "    0   0   0   0   0   0   0   0   0   0]\n",
      " [  0   0   0   0   0   0   0   0   0   0   0   0   0   0   0   0   0   0\n",
      "    0   0   0   0   0   0   0   0   0   0]\n",
      " [  0   0   0   0   0   0   0   0   0   0   0   0   3  18  18  18 126 136\n",
      "  175  26 166 255 247 127   0   0   0   0]\n",
      " [  0   0   0   0   0   0   0   0  30  36  94 154 170 253 253 253 253 253\n",
      "  225 172 253 242 195  64   0   0   0   0]\n",
      " [  0   0   0   0   0   0   0  49 238 253 253 253 253 253 253 253 253 251\n",
      "   93  82  82  56  39   0   0   0   0   0]\n",
      " [  0   0   0   0   0   0   0  18 219 253 253 253 253 253 198 182 247 241\n",
      "    0   0   0   0   0   0   0   0   0   0]\n",
      " [  0   0   0   0   0   0   0   0  80 156 107 253 253 205  11   0  43 154\n",
      "    0   0   0   0   0   0   0   0   0   0]\n",
      " [  0   0   0   0   0   0   0   0   0  14   1 154 253  90   0   0   0   0\n",
      "    0   0   0   0   0   0   0   0   0   0]\n",
      " [  0   0   0   0   0   0   0   0   0   0   0 139 253 190   2   0   0   0\n",
      "    0   0   0   0   0   0   0   0   0   0]\n",
      " [  0   0   0   0   0   0   0   0   0   0   0  11 190 253  70   0   0   0\n",
      "    0   0   0   0   0   0   0   0   0   0]\n",
      " [  0   0   0   0   0   0   0   0   0   0   0   0  35 241 225 160 108   1\n",
      "    0   0   0   0   0   0   0   0   0   0]\n",
      " [  0   0   0   0   0   0   0   0   0   0   0   0   0  81 240 253 253 119\n",
      "   25   0   0   0   0   0   0   0   0   0]\n",
      " [  0   0   0   0   0   0   0   0   0   0   0   0   0   0  45 186 253 253\n",
      "  150  27   0   0   0   0   0   0   0   0]\n",
      " [  0   0   0   0   0   0   0   0   0   0   0   0   0   0   0  16  93 252\n",
      "  253 187   0   0   0   0   0   0   0   0]\n",
      " [  0   0   0   0   0   0   0   0   0   0   0   0   0   0   0   0   0 249\n",
      "  253 249  64   0   0   0   0   0   0   0]\n",
      " [  0   0   0   0   0   0   0   0   0   0   0   0   0   0  46 130 183 253\n",
      "  253 207   2   0   0   0   0   0   0   0]\n",
      " [  0   0   0   0   0   0   0   0   0   0   0   0  39 148 229 253 253 253\n",
      "  250 182   0   0   0   0   0   0   0   0]\n",
      " [  0   0   0   0   0   0   0   0   0   0  24 114 221 253 253 253 253 201\n",
      "   78   0   0   0   0   0   0   0   0   0]\n",
      " [  0   0   0   0   0   0   0   0  23  66 213 253 253 253 253 198  81   2\n",
      "    0   0   0   0   0   0   0   0   0   0]\n",
      " [  0   0   0   0   0   0  18 171 219 253 253 253 253 195  80   9   0   0\n",
      "    0   0   0   0   0   0   0   0   0   0]\n",
      " [  0   0   0   0  55 172 226 253 253 253 253 244 133  11   0   0   0   0\n",
      "    0   0   0   0   0   0   0   0   0   0]\n",
      " [  0   0   0   0 136 253 253 253 212 135 132  16   0   0   0   0   0   0\n",
      "    0   0   0   0   0   0   0   0   0   0]\n",
      " [  0   0   0   0   0   0   0   0   0   0   0   0   0   0   0   0   0   0\n",
      "    0   0   0   0   0   0   0   0   0   0]\n",
      " [  0   0   0   0   0   0   0   0   0   0   0   0   0   0   0   0   0   0\n",
      "    0   0   0   0   0   0   0   0   0   0]\n",
      " [  0   0   0   0   0   0   0   0   0   0   0   0   0   0   0   0   0   0\n",
      "    0   0   0   0   0   0   0   0   0   0]]\n"
     ]
    }
   ],
   "source": [
    "print(\"x_train[0]:\\n\", x_train[0])"
   ]
  },
  {
   "cell_type": "code",
   "execution_count": 12,
   "metadata": {},
   "outputs": [
    {
     "name": "stdout",
     "output_type": "stream",
     "text": [
      "y_train[0]:\n",
      " 5\n"
     ]
    }
   ],
   "source": [
    "print(\"y_train[0]:\\n\", y_train[0])"
   ]
  },
  {
   "cell_type": "code",
   "execution_count": 13,
   "metadata": {},
   "outputs": [
    {
     "name": "stdout",
     "output_type": "stream",
     "text": [
      "x_test.shape: (10000, 28, 28)\n"
     ]
    }
   ],
   "source": [
    "print(\"x_test.shape:\",x_test.shape)"
   ]
  },
  {
   "cell_type": "code",
   "execution_count": 14,
   "metadata": {},
   "outputs": [
    {
     "name": "stdout",
     "output_type": "stream",
     "text": [
      "x_train.shape: (60000, 28, 28)\n"
     ]
    }
   ],
   "source": [
    "print(\"x_train.shape:\",x_train.shape)"
   ]
  },
  {
   "cell_type": "markdown",
   "metadata": {},
   "source": [
    "---\n",
    "## 1.sequential方式建立手写数字识别神经网络\n",
    "\n",
    "\n",
    "要进行手写数字识别训练。课上使用的是sequential方式建模。\n",
    "\n",
    "我们正好可以根据笔记复习一下sequential建模的八股（我是根据自己在markdown上的笔记先码一次，再看看老师的，对照一下，各位可以结合自己的笔记或者我的笔记看看）\n",
    "\n",
    "可以不看老师代码建立一下模型。只依据总结出来的依据老师课上提供的以下信息：\n",
    "\n",
    "1. 课上建立的是一个两层网络:\n",
    "  - 第一层是relu的128个神经元。\n",
    "  - 第二层是softmax的10个神经元(其实就是输出层了)\n",
    "2. 使用adam优化\n",
    "3. batchsize 是32, 训练5次，每训练一次测试一次结果。\n",
    "4. 因为x_train 和 x_test 都是0到255，使用前进行归一化"
   ]
  },
  {
   "cell_type": "markdown",
   "metadata": {},
   "source": [
    "### 第一步+第二步\n",
    "\n",
    "第一步是import，上面已经执行了。\n",
    "\n",
    "下面执行第二步，测试集和训练集的处理。\n",
    "\n",
    "我们主要进行归一化，因为数据集本身已经分开了训练和测试。"
   ]
  },
  {
   "cell_type": "code",
   "execution_count": 28,
   "metadata": {
    "collapsed": true
   },
   "outputs": [],
   "source": [
    "x_train_normalized, x_test_normalized= x_train/255.0, x_test/255.0"
   ]
  },
  {
   "cell_type": "markdown",
   "metadata": {},
   "source": [
    "### 第三步\n",
    "构建模型\n",
    "\n",
    "使用如下代码就可\n",
    "\n",
    "- tf.keras.models.Sequential ([ 网络结构 ]) #描述各层网络\n",
    "- 拉直层： tf.keras.layers.Flatten( )\n",
    "- 全连接层： tf.keras.layers.Dense(神经元个数, activation= \"激活函数“kernel_regularizer=哪种正则化)\n",
    "\n",
    "千万不要忘了 Sequential ([ 网络结构 ]) 的中括号，不然报错"
   ]
  },
  {
   "cell_type": "code",
   "execution_count": 24,
   "metadata": {},
   "outputs": [],
   "source": [
    "model=tf.keras.models.Sequential([\n",
    "    tf.keras.layers.Flatten(),\n",
    "    tf.keras.layers.Dense(128,activation= 'relu', kernel_regularizer=tf.keras.regularizers.l2()),\n",
    "    tf.keras.layers.Dense(10,activation= 'softmax',kernel_regularizer=tf.keras.regularizers.l2())\n",
    "]) #描述各层网络\n",
    "# 千万不要忘了[]  否则报错"
   ]
  },
  {
   "cell_type": "markdown",
   "metadata": {},
   "source": [
    "### 第四步\n",
    "\n",
    "配置优化方式"
   ]
  },
  {
   "cell_type": "code",
   "execution_count": 27,
   "metadata": {},
   "outputs": [],
   "source": [
    "model.compile(optimizer = 'adam',\n",
    "loss = tf.keras.losses.SparseCategoricalCrossentropy(from_logits=False),\n",
    "metrics = ['sparse_categorical_accuracy'] )"
   ]
  },
  {
   "cell_type": "markdown",
   "metadata": {},
   "source": [
    "### 第五步\n",
    "训练模型\n",
    "\n",
    "val_sparse_categorical_accuracy是使用测试集测试的准确率"
   ]
  },
  {
   "cell_type": "code",
   "execution_count": 30,
   "metadata": {},
   "outputs": [
    {
     "name": "stdout",
     "output_type": "stream",
     "text": [
      "Train on 60000 samples, validate on 10000 samples\n",
      "Epoch 1/5\n",
      "60000/60000 [==============================] - 3s 51us/sample - loss: 0.8735 - sparse_categorical_accuracy: 0.8858 - val_loss: 0.7321 - val_sparse_categorical_accuracy: 0.9069\n",
      "Epoch 2/5\n",
      "60000/60000 [==============================] - 3s 42us/sample - loss: 0.7427 - sparse_categorical_accuracy: 0.8999 - val_loss: 0.7158 - val_sparse_categorical_accuracy: 0.9054\n",
      "Epoch 3/5\n",
      "60000/60000 [==============================] - 2s 41us/sample - loss: 0.7335 - sparse_categorical_accuracy: 0.9020 - val_loss: 0.7133 - val_sparse_categorical_accuracy: 0.9053\n",
      "Epoch 4/5\n",
      "60000/60000 [==============================] - 2s 41us/sample - loss: 0.7288 - sparse_categorical_accuracy: 0.9021 - val_loss: 0.7137 - val_sparse_categorical_accuracy: 0.9032\n",
      "Epoch 5/5\n",
      "60000/60000 [==============================] - 2s 40us/sample - loss: 0.7274 - sparse_categorical_accuracy: 0.9024 - val_loss: 0.6973 - val_sparse_categorical_accuracy: 0.9110\n"
     ]
    },
    {
     "data": {
      "text/plain": [
       "<tensorflow.python.keras.callbacks.History at 0x1eaef038588>"
      ]
     },
     "execution_count": 30,
     "metadata": {},
     "output_type": "execute_result"
    }
   ],
   "source": [
    "model.fit (x_train_normalized, y_train, \n",
    "batch_size=32 , epochs=5 , \n",
    "validation_data=(x_test_normalized,y_test),\n",
    "validation_freq = 1)"
   ]
  },
  {
   "cell_type": "markdown",
   "metadata": {},
   "source": [
    "### 第六步\n",
    "打印参数等模型统计数据"
   ]
  },
  {
   "cell_type": "code",
   "execution_count": 31,
   "metadata": {
    "scrolled": false
   },
   "outputs": [
    {
     "name": "stdout",
     "output_type": "stream",
     "text": [
      "Model: \"sequential_1\"\n",
      "_________________________________________________________________\n",
      "Layer (type)                 Output Shape              Param #   \n",
      "=================================================================\n",
      "flatten_7 (Flatten)          multiple                  0         \n",
      "_________________________________________________________________\n",
      "dense_12 (Dense)             multiple                  100480    \n",
      "_________________________________________________________________\n",
      "dense_13 (Dense)             multiple                  1290      \n",
      "=================================================================\n",
      "Total params: 101,770\n",
      "Trainable params: 101,770\n",
      "Non-trainable params: 0\n",
      "_________________________________________________________________\n"
     ]
    }
   ],
   "source": [
    "model.summary()"
   ]
  },
  {
   "cell_type": "markdown",
   "metadata": {},
   "source": [
    "## 2.使用class方式建立神经网络模型\n",
    "\n",
    "因为是第二讲说的class，我们这里也练习一下怎么使用class书写网络\n",
    "\n",
    "复习一下流程\n",
    "1. 在Mymodel中建立一个继承自Model的类，然后在其实写这个类的神经网络\n",
    "2. model=Mymodel()创建一个这个类的实例\n",
    "3. 其他代码与sequential法一致"
   ]
  },
  {
   "cell_type": "markdown",
   "metadata": {},
   "source": [
    "### 第三步\n",
    "因为一二步一样，所以直接省略了"
   ]
  },
  {
   "cell_type": "code",
   "execution_count": 59,
   "metadata": {},
   "outputs": [],
   "source": [
    "from tensorflow.keras import Model\n",
    "from tensorflow.keras.layers import Flatten, Dense\n",
    "class MnistModel(Model):\n",
    "    def __init__(self):\n",
    "        super(MnistModel,self).__init__()\n",
    "        self.layer_input=Flatten()\n",
    "        self.layer_one=Dense(128,activation= 'relu', kernel_regularizer=tf.keras.regularizers.l2())\n",
    "        self.layer_two=Dense(10,activation= 'softmax',kernel_regularizer=tf.keras.regularizers.l2())#描述各层网络\n",
    "    def call(self, x):\n",
    "        y=self.layer_two(self.layer_one(self.layer_input(x)))\n",
    "        return y #输出前向传播的结果\n",
    "    \n",
    "model2=MnistModel()"
   ]
  },
  {
   "cell_type": "markdown",
   "metadata": {},
   "source": [
    "### 第四、五、六步\n",
    "四五六步与上面代码一样"
   ]
  },
  {
   "cell_type": "code",
   "execution_count": 64,
   "metadata": {},
   "outputs": [],
   "source": [
    "model2.compile(optimizer ='sgd',\n",
    "loss = tf.keras.losses.SparseCategoricalCrossentropy(from_logits=False),\n",
    "metrics = ['sparse_categorical_accuracy'] )"
   ]
  },
  {
   "cell_type": "code",
   "execution_count": 65,
   "metadata": {},
   "outputs": [
    {
     "name": "stdout",
     "output_type": "stream",
     "text": [
      "Train on 60000 samples, validate on 10000 samples\n",
      "Epoch 1/10\n",
      "60000/60000 [==============================] - 2s 41us/sample - loss: 0.7112 - sparse_categorical_accuracy: 0.9063 - val_loss: 0.6849 - val_sparse_categorical_accuracy: 0.9128\n",
      "Epoch 2/10\n",
      "60000/60000 [==============================] - 2s 37us/sample - loss: 0.6966 - sparse_categorical_accuracy: 0.9087 - val_loss: 0.6786 - val_sparse_categorical_accuracy: 0.9134\n",
      "Epoch 3/10\n",
      "60000/60000 [==============================] - 2s 37us/sample - loss: 0.6930 - sparse_categorical_accuracy: 0.9100 - val_loss: 0.6765 - val_sparse_categorical_accuracy: 0.9128\n",
      "Epoch 4/10\n",
      "60000/60000 [==============================] - 2s 37us/sample - loss: 0.6914 - sparse_categorical_accuracy: 0.9094 - val_loss: 0.6761 - val_sparse_categorical_accuracy: 0.9136\n",
      "Epoch 5/10\n",
      "60000/60000 [==============================] - 2s 37us/sample - loss: 0.6910 - sparse_categorical_accuracy: 0.9100 - val_loss: 0.6746 - val_sparse_categorical_accuracy: 0.9122\n",
      "Epoch 6/10\n",
      "60000/60000 [==============================] - 2s 38us/sample - loss: 0.6907 - sparse_categorical_accuracy: 0.9098 - val_loss: 0.6751 - val_sparse_categorical_accuracy: 0.9139\n",
      "Epoch 7/10\n",
      "60000/60000 [==============================] - 2s 37us/sample - loss: 0.6908 - sparse_categorical_accuracy: 0.9102 - val_loss: 0.6738 - val_sparse_categorical_accuracy: 0.9147\n",
      "Epoch 8/10\n",
      "60000/60000 [==============================] - 2s 37us/sample - loss: 0.6905 - sparse_categorical_accuracy: 0.9104 - val_loss: 0.6744 - val_sparse_categorical_accuracy: 0.9133\n",
      "Epoch 9/10\n",
      "60000/60000 [==============================] - 2s 37us/sample - loss: 0.6906 - sparse_categorical_accuracy: 0.9095 - val_loss: 0.6744 - val_sparse_categorical_accuracy: 0.9127\n",
      "Epoch 10/10\n",
      "60000/60000 [==============================] - 2s 37us/sample - loss: 0.6904 - sparse_categorical_accuracy: 0.9106 - val_loss: 0.6747 - val_sparse_categorical_accuracy: 0.9138\n"
     ]
    },
    {
     "data": {
      "text/plain": [
       "<tensorflow.python.keras.callbacks.History at 0x1eaf696f828>"
      ]
     },
     "execution_count": 65,
     "metadata": {},
     "output_type": "execute_result"
    }
   ],
   "source": [
    "model2.fit (x_train_normalized, y_train, \n",
    "batch_size=32 , epochs=10 , \n",
    "validation_data=(x_test_normalized,y_test),\n",
    "validation_freq = 1)"
   ]
  },
  {
   "cell_type": "code",
   "execution_count": 38,
   "metadata": {},
   "outputs": [
    {
     "name": "stdout",
     "output_type": "stream",
     "text": [
      "Model: \"mnist_model\"\n",
      "_________________________________________________________________\n",
      "Layer (type)                 Output Shape              Param #   \n",
      "=================================================================\n",
      "flatten_8 (Flatten)          multiple                  0         \n",
      "_________________________________________________________________\n",
      "dense_14 (Dense)             multiple                  100480    \n",
      "_________________________________________________________________\n",
      "dense_15 (Dense)             multiple                  1290      \n",
      "=================================================================\n",
      "Total params: 101,770\n",
      "Trainable params: 101,770\n",
      "Non-trainable params: 0\n",
      "_________________________________________________________________\n"
     ]
    }
   ],
   "source": [
    "model2.summary()"
   ]
  }
 ],
 "metadata": {
  "kernelspec": {
   "display_name": "tf_py36",
   "language": "python",
   "name": "tf_py36"
  },
  "language_info": {
   "codemirror_mode": {
    "name": "ipython",
    "version": 3
   },
   "file_extension": ".py",
   "mimetype": "text/x-python",
   "name": "python",
   "nbconvert_exporter": "python",
   "pygments_lexer": "ipython3",
   "version": "3.6.2"
  }
 },
 "nbformat": 4,
 "nbformat_minor": 4
}
